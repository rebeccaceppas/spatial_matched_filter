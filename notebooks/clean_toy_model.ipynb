{
 "cells": [
  {
   "cell_type": "code",
   "execution_count": 8,
   "metadata": {},
   "outputs": [],
   "source": [
    "import numpy as np\n",
    "import healpy as hp\n",
    "from scipy import special"
   ]
  },
  {
   "cell_type": "markdown",
   "metadata": {},
   "source": [
    "# 1D matched filter"
   ]
  },
  {
   "cell_type": "code",
   "execution_count": 11,
   "metadata": {},
   "outputs": [],
   "source": [
    "class GaussianBeam():\n",
    "\n",
    "    def __init__(self, npix=10, std=1):\n",
    "        \n",
    "        self.std = std\n",
    "        self.npix = npix\n",
    "\n",
    "    def get_beam(self):\n",
    "\n",
    "        x = np.linspace(-(self.npix//2), self.npix//2, self.npix)\n",
    "        beam = np.exp(-x**2 / (2*self.std**2))\n",
    "\n",
    "        return beam\n",
    "\n",
    "        \n",
    "\n",
    "class AiryBeam():\n",
    "\n",
    "    def __init__(self, npix=10):\n",
    "        \n",
    "        self.npix = npix\n",
    "\n",
    "    def get_beam(self):\n",
    "\n",
    "        x = np.linspace(-(self.npix//2), self.npix//2, self.npix)\n",
    "        beam = special.jv(1, x*2*np.pi)/(2*np.pi*x)\n",
    "\n",
    "        return beam\n",
    "\n",
    "\n",
    "BEAMS = {'gaussian': GaussianBeam(),\n",
    "        'airy': AiryBeam()}\n"
   ]
  },
  {
   "cell_type": "code",
   "execution_count": null,
   "metadata": {},
   "outputs": [],
   "source": []
  },
  {
   "cell_type": "code",
   "execution_count": 7,
   "metadata": {},
   "outputs": [],
   "source": [
    "def create_1d_input_map(npix, nsources, source_brightness=None, seed=0):\n",
    "\n",
    "    np.random.seed(seed)\n",
    "    map_1d = np.zeros(npix)\n",
    "\n",
    "    for i, n in enumerate(nsources):\n",
    "        location = np.choice(npix)\n",
    "\n",
    "        if source_brightness:\n",
    "            map_1d[location] = source_brightness[i]\n",
    "        else:\n",
    "            map_1d[location] = np.random.uniform()\n",
    "\n",
    "    return map_1d\n",
    "\n",
    "def perform_observation(map, telescope_beam=None):\n",
    "    '''\n",
    "    Performs a mock observation of a map by convolving with a chosen beam\n",
    "    \n",
    "    Inputs:\n",
    "    -------\n",
    "    map: 1D array representing the input map\n",
    "    telescope_beam: string labelling the type of beam.\n",
    "                    default is None and using hp.smoothing which is Gaussian symmetric.\n",
    "                    Options are \"airy\" \"gaussian\". \n",
    "                    \n",
    "    Outputs:\n",
    "    --------\n",
    "    map_observed: 1D array representing the observed map'''\n",
    "    \n",
    "    npix = map.size\n",
    "\n",
    "    if telescope_beam is None:\n",
    "        map_observed = hp.smoothing(map)\n",
    "    \n",
    "    else:\n",
    "        beam_object = BEAMS[telescope_beam](npix)\n",
    "        beam = beam_object.get_beam()\n",
    "        map_observed = np.fft.ifft(np.fft.fft(beam) * np.fft.fft(map))\n",
    "\n",
    "    return map_observed\n",
    "\n",
    "\n",
    "\n",
    "def add_noise(map, noise_std, seed=0):\n",
    "\n",
    "    pass"
   ]
  },
  {
   "cell_type": "code",
   "execution_count": null,
   "metadata": {},
   "outputs": [],
   "source": []
  },
  {
   "cell_type": "code",
   "execution_count": 4,
   "metadata": {},
   "outputs": [],
   "source": [
    "nside = 32\n",
    "npix = hp.nside2npix(nside)"
   ]
  },
  {
   "cell_type": "code",
   "execution_count": null,
   "metadata": {},
   "outputs": [],
   "source": [
    "nside = 32\n",
    "\n",
    "map_1D = np.zeros(12*nside**2)\n",
    "\n",
    "map_[1000] = 1\n",
    "map_[10000] = 0.5"
   ]
  }
 ],
 "metadata": {
  "kernelspec": {
   "display_name": "CHORD",
   "language": "python",
   "name": "python3"
  },
  "language_info": {
   "codemirror_mode": {
    "name": "ipython",
    "version": 3
   },
   "file_extension": ".py",
   "mimetype": "text/x-python",
   "name": "python",
   "nbconvert_exporter": "python",
   "pygments_lexer": "ipython3",
   "version": "3.12.3"
  }
 },
 "nbformat": 4,
 "nbformat_minor": 2
}
